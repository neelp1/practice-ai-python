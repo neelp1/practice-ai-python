{
 "cells": [
  {
   "cell_type": "markdown",
   "metadata": {},
   "source": [
    "# Practice Notebook"
   ]
  },
  {
   "cell_type": "code",
   "execution_count": 1,
   "metadata": {},
   "outputs": [
    {
     "name": "stdout",
     "output_type": "stream",
     "text": [
      "this is python3 jupyter notebook\n"
     ]
    }
   ],
   "source": [
    "print(\"this is python3 jupyter notebook\")"
   ]
  },
  {
   "cell_type": "code",
   "execution_count": 2,
   "metadata": {},
   "outputs": [],
   "source": [
    "import numpy as np\n",
    "data = np.array([['','tail_length','height'],\n",
    "                ['0',30,25],\n",
    "                ['1',15,20],\n",
    "                ['2',31,24],\n",
    "                ['3',17,21],\n",
    "                ['4',29,24]])"
   ]
  },
  {
   "cell_type": "code",
   "execution_count": 3,
   "metadata": {},
   "outputs": [
    {
     "name": "stdout",
     "output_type": "stream",
     "text": [
      "[['' 'tail_length' 'height']\n",
      " ['0' '30' '25']\n",
      " ['1' '15' '20']\n",
      " ['2' '31' '24']\n",
      " ['3' '17' '21']\n",
      " ['4' '29' '24']]\n"
     ]
    }
   ],
   "source": [
    "print(data)"
   ]
  },
  {
   "cell_type": "code",
   "execution_count": 4,
   "metadata": {},
   "outputs": [],
   "source": [
    "from IPython.display import display, Math, Latex"
   ]
  },
  {
   "cell_type": "code",
   "execution_count": 5,
   "metadata": {},
   "outputs": [
    {
     "data": {
      "text/latex": [
       "$$\\sqrt{a^2 + b^2}$$"
      ],
      "text/plain": [
       "<IPython.core.display.Math object>"
      ]
     },
     "metadata": {},
     "output_type": "display_data"
    }
   ],
   "source": [
    "display(Math(r'\\sqrt{a^2 + b^2}'))"
   ]
  },
  {
   "cell_type": "code",
   "execution_count": 6,
   "metadata": {},
   "outputs": [
    {
     "data": {
      "application/json": {
       "cell": {
        "!": "OSMagics",
        "HTML": "Other",
        "SVG": "Other",
        "bash": "Other",
        "capture": "ExecutionMagics",
        "debug": "ExecutionMagics",
        "file": "Other",
        "html": "DisplayMagics",
        "javascript": "DisplayMagics",
        "js": "DisplayMagics",
        "latex": "DisplayMagics",
        "markdown": "DisplayMagics",
        "perl": "Other",
        "prun": "ExecutionMagics",
        "pypy": "Other",
        "python": "Other",
        "python2": "Other",
        "python3": "Other",
        "ruby": "Other",
        "script": "ScriptMagics",
        "sh": "Other",
        "svg": "DisplayMagics",
        "sx": "OSMagics",
        "system": "OSMagics",
        "time": "ExecutionMagics",
        "timeit": "ExecutionMagics",
        "writefile": "OSMagics"
       },
       "line": {
        "alias": "OSMagics",
        "alias_magic": "BasicMagics",
        "autocall": "AutoMagics",
        "automagic": "AutoMagics",
        "autosave": "KernelMagics",
        "bookmark": "OSMagics",
        "cat": "Other",
        "cd": "OSMagics",
        "clear": "KernelMagics",
        "colors": "BasicMagics",
        "config": "ConfigMagics",
        "connect_info": "KernelMagics",
        "cp": "Other",
        "debug": "ExecutionMagics",
        "dhist": "OSMagics",
        "dirs": "OSMagics",
        "doctest_mode": "BasicMagics",
        "ed": "Other",
        "edit": "KernelMagics",
        "env": "OSMagics",
        "gui": "BasicMagics",
        "hist": "Other",
        "history": "HistoryMagics",
        "killbgscripts": "ScriptMagics",
        "ldir": "Other",
        "less": "KernelMagics",
        "lf": "Other",
        "lk": "Other",
        "ll": "Other",
        "load": "CodeMagics",
        "load_ext": "ExtensionMagics",
        "loadpy": "CodeMagics",
        "logoff": "LoggingMagics",
        "logon": "LoggingMagics",
        "logstart": "LoggingMagics",
        "logstate": "LoggingMagics",
        "logstop": "LoggingMagics",
        "ls": "Other",
        "lsmagic": "BasicMagics",
        "lx": "Other",
        "macro": "ExecutionMagics",
        "magic": "BasicMagics",
        "man": "KernelMagics",
        "matplotlib": "PylabMagics",
        "mkdir": "Other",
        "more": "KernelMagics",
        "mv": "Other",
        "notebook": "BasicMagics",
        "page": "BasicMagics",
        "pastebin": "CodeMagics",
        "pdb": "ExecutionMagics",
        "pdef": "NamespaceMagics",
        "pdoc": "NamespaceMagics",
        "pfile": "NamespaceMagics",
        "pinfo": "NamespaceMagics",
        "pinfo2": "NamespaceMagics",
        "pip": "BasicMagics",
        "popd": "OSMagics",
        "pprint": "BasicMagics",
        "precision": "BasicMagics",
        "profile": "BasicMagics",
        "prun": "ExecutionMagics",
        "psearch": "NamespaceMagics",
        "psource": "NamespaceMagics",
        "pushd": "OSMagics",
        "pwd": "OSMagics",
        "pycat": "OSMagics",
        "pylab": "PylabMagics",
        "qtconsole": "KernelMagics",
        "quickref": "BasicMagics",
        "recall": "HistoryMagics",
        "rehashx": "OSMagics",
        "reload_ext": "ExtensionMagics",
        "rep": "Other",
        "rerun": "HistoryMagics",
        "reset": "NamespaceMagics",
        "reset_selective": "NamespaceMagics",
        "rm": "Other",
        "rmdir": "Other",
        "run": "ExecutionMagics",
        "save": "CodeMagics",
        "sc": "OSMagics",
        "set_env": "OSMagics",
        "store": "StoreMagics",
        "sx": "OSMagics",
        "system": "OSMagics",
        "tb": "ExecutionMagics",
        "time": "ExecutionMagics",
        "timeit": "ExecutionMagics",
        "unalias": "OSMagics",
        "unload_ext": "ExtensionMagics",
        "who": "NamespaceMagics",
        "who_ls": "NamespaceMagics",
        "whos": "NamespaceMagics",
        "xdel": "NamespaceMagics",
        "xmode": "BasicMagics"
       }
      },
      "text/plain": [
       "Available line magics:\n",
       "%alias  %alias_magic  %autocall  %automagic  %autosave  %bookmark  %cat  %cd  %clear  %colors  %config  %connect_info  %cp  %debug  %dhist  %dirs  %doctest_mode  %ed  %edit  %env  %gui  %hist  %history  %killbgscripts  %ldir  %less  %lf  %lk  %ll  %load  %load_ext  %loadpy  %logoff  %logon  %logstart  %logstate  %logstop  %ls  %lsmagic  %lx  %macro  %magic  %man  %matplotlib  %mkdir  %more  %mv  %notebook  %page  %pastebin  %pdb  %pdef  %pdoc  %pfile  %pinfo  %pinfo2  %popd  %pprint  %precision  %profile  %prun  %psearch  %psource  %pushd  %pwd  %pycat  %pylab  %qtconsole  %quickref  %recall  %rehashx  %reload_ext  %rep  %rerun  %reset  %reset_selective  %rm  %rmdir  %run  %save  %sc  %set_env  %store  %sx  %system  %tb  %time  %timeit  %unalias  %unload_ext  %who  %who_ls  %whos  %xdel  %xmode\n",
       "\n",
       "Available cell magics:\n",
       "%%!  %%HTML  %%SVG  %%bash  %%capture  %%debug  %%file  %%html  %%javascript  %%js  %%latex  %%markdown  %%perl  %%prun  %%pypy  %%python  %%python2  %%python3  %%ruby  %%script  %%sh  %%svg  %%sx  %%system  %%time  %%timeit  %%writefile\n",
       "\n",
       "Automagic is ON, % prefix IS NOT needed for line magics."
      ]
     },
     "execution_count": 6,
     "metadata": {},
     "output_type": "execute_result"
    }
   ],
   "source": [
    "%lsmagic"
   ]
  },
  {
   "cell_type": "code",
   "execution_count": 7,
   "metadata": {},
   "outputs": [
    {
     "name": "stdout",
     "output_type": "stream",
     "text": [
      "CPU times: user 3 µs, sys: 1 µs, total: 4 µs\n",
      "Wall time: 7.15 µs\n"
     ]
    }
   ],
   "source": [
    "time"
   ]
  },
  {
   "cell_type": "code",
   "execution_count": 8,
   "metadata": {},
   "outputs": [],
   "source": [
    "quickref"
   ]
  },
  {
   "cell_type": "code",
   "execution_count": 9,
   "metadata": {},
   "outputs": [],
   "source": [
    "?range"
   ]
  },
  {
   "cell_type": "code",
   "execution_count": 10,
   "metadata": {},
   "outputs": [
    {
     "name": "stdout",
     "output_type": "stream",
     "text": [
      "Package                                Version    \n",
      "-------------------------------------- -----------\n",
      "altgraph                               0.10.2     \n",
      "ansible                                2.2.1.0    \n",
      "ansible-container                      0.2.0      \n",
      "APScheduler                            3.2.0      \n",
      "astroid                                1.4.8      \n",
      "awscli                                 1.11.28    \n",
      "backports.functools-lru-cache          1.2.1      \n",
      "backports.shutil-get-terminal-size     1.0.0      \n",
      "bdist-mpkg                             0.5.0      \n",
      "bonjour-py                             0.3        \n",
      "botocore                               1.4.85     \n",
      "cached-property                        1.3.0      \n",
      "cffi                                   1.9.1      \n",
      "colorama                               0.3.7      \n",
      "common-utils                           1.0.8.dev1 \n",
      "configparser                           3.5.0      \n",
      "cryptography                           1.7.2      \n",
      "decorator                              4.1.2      \n",
      "demjson                                2.2.4      \n",
      "docker-compose                         1.7.0      \n",
      "docker-py                              1.8.0      \n",
      "dockerpty                              0.4.1      \n",
      "docopt                                 0.6.2      \n",
      "docutils                               0.13.1     \n",
      "enum34                                 1.1.6      \n",
      "funcsigs                               1.0.2      \n",
      "functools32                            3.2.3.post2\n",
      "future                                 0.16.0     \n",
      "futures                                3.0.5      \n",
      "gax-google-logging-v2                  0.8.3      \n",
      "gax-google-pubsub-v1                   0.8.3      \n",
      "gcloud                                 0.17.0     \n",
      "google-gax                             0.15.0     \n",
      "googleapis-common-protos               1.5.0      \n",
      "grpc-google-logging-v2                 0.8.1      \n",
      "grpc-google-pubsub-v1                  0.8.1      \n",
      "grpcio                                 1.0.4      \n",
      "httplib2                               0.9.2      \n",
      "idna                                   2.2        \n",
      "ipaddress                              1.0.18     \n",
      "ipython-genutils                       0.2.0      \n",
      "isort                                  4.2.5      \n",
      "Jinja2                                 2.8        \n",
      "jmespath                               0.9.0      \n",
      "jsonschema                             2.6.0      \n",
      "jupyter-core                           4.4.0      \n",
      "jws                                    0.1.3      \n",
      "lazy-object-proxy                      1.2.2      \n",
      "macholib                               1.5.1      \n",
      "MarkupSafe                             0.23       \n",
      "matplotlib                             1.3.1      \n",
      "mccabe                                 0.5.2      \n",
      "modulegraph                            0.10.4     \n",
      "nbformat                               4.4.0      \n",
      "numpy                                  1.8.0rc1   \n",
      "oauth2client                           3.0.0      \n",
      "pandas                                 0.19.0     \n",
      "paramiko                               2.1.1      \n",
      "pexpect                                4.2.1      \n",
      "pip                                    10.0.1     \n",
      "plotly                                 2.2.3      \n",
      "ply                                    3.8        \n",
      "protobuf                               3.1.0.post1\n",
      "ptyprocess                             0.5.1      \n",
      "py2-ipaddress                          3.4.1      \n",
      "py2app                                 0.7.3      \n",
      "pyasn1                                 0.1.9      \n",
      "pyasn1-modules                         0.0.8      \n",
      "pycparser                              2.17       \n",
      "pycrypto                               2.6.1      \n",
      "pycryptodome                           3.4.3      \n",
      "Pygments                               2.1.3      \n",
      "pylint                                 1.6.4      \n",
      "pyobjc-core                            2.5.1      \n",
      "pyobjc-framework-Accounts              2.5.1      \n",
      "pyobjc-framework-AddressBook           2.5.1      \n",
      "pyobjc-framework-AppleScriptKit        2.5.1      \n",
      "pyobjc-framework-AppleScriptObjC       2.5.1      \n",
      "pyobjc-framework-Automator             2.5.1      \n",
      "pyobjc-framework-CFNetwork             2.5.1      \n",
      "pyobjc-framework-Cocoa                 2.5.1      \n",
      "pyobjc-framework-Collaboration         2.5.1      \n",
      "pyobjc-framework-CoreData              2.5.1      \n",
      "pyobjc-framework-CoreLocation          2.5.1      \n",
      "pyobjc-framework-CoreText              2.5.1      \n",
      "pyobjc-framework-DictionaryServices    2.5.1      \n",
      "pyobjc-framework-EventKit              2.5.1      \n",
      "pyobjc-framework-ExceptionHandling     2.5.1      \n",
      "pyobjc-framework-FSEvents              2.5.1      \n",
      "pyobjc-framework-InputMethodKit        2.5.1      \n",
      "pyobjc-framework-InstallerPlugins      2.5.1      \n",
      "pyobjc-framework-InstantMessage        2.5.1      \n",
      "pyobjc-framework-LatentSemanticMapping 2.5.1      \n",
      "pyobjc-framework-LaunchServices        2.5.1      \n",
      "pyobjc-framework-Message               2.5.1      \n",
      "pyobjc-framework-OpenDirectory         2.5.1      \n",
      "pyobjc-framework-PreferencePanes       2.5.1      \n",
      "pyobjc-framework-PubSub                2.5.1      \n",
      "pyobjc-framework-QTKit                 2.5.1      \n",
      "pyobjc-framework-Quartz                2.5.1      \n",
      "pyobjc-framework-ScreenSaver           2.5.1      \n",
      "pyobjc-framework-ScriptingBridge       2.5.1      \n",
      "pyobjc-framework-SearchKit             2.5.1      \n",
      "pyobjc-framework-ServiceManagement     2.5.1      \n",
      "pyobjc-framework-Social                2.5.1      \n",
      "pyobjc-framework-SyncServices          2.5.1      \n",
      "pyobjc-framework-SystemConfiguration   2.5.1      \n",
      "pyobjc-framework-WebKit                2.5.1      \n",
      "pyOpenSSL                              0.13.1     \n",
      "pyparsing                              2.0.1      \n",
      "Pyrebase                               3.0.25     \n",
      "python-bittrex                         0.2.1      \n",
      "python-dateutil                        2.6.0      \n",
      "python-jwt                             2.0.1      \n",
      "pytz                                   2013.7     \n",
      "PyYAML                                 3.11       \n",
      "requests                               2.7.0      \n",
      "requests-toolbelt                      0.7.0      \n",
      "rsa                                    3.4.2      \n",
      "s3transfer                             0.1.9      \n",
      "scikit-learn                           0.18       \n",
      "scipy                                  0.13.0b1   \n",
      "selenium                               2.53.6     \n",
      "setuptools                             18.5       \n",
      "six                                    1.10.0     \n",
      "TA-Lib                                 0.4.10     \n",
      "texttable                              0.8.7      \n",
      "traitlets                              4.3.2      \n",
      "tzlocal                                1.3        \n",
      "utils                                  0.9.0      \n",
      "vboxapi                                1.0        \n",
      "virtualenv                             15.1.0     \n",
      "websocket-client                       0.40.0     \n",
      "wheel                                  0.29.0     \n",
      "wrapt                                  1.10.8     \n",
      "xattr                                  0.6.4      \n",
      "zope.interface                         4.1.1      \n"
     ]
    }
   ],
   "source": [
    "!pip list"
   ]
  }
 ],
 "metadata": {
  "kernelspec": {
   "display_name": "Python 3",
   "language": "python",
   "name": "python3"
  },
  "language_info": {
   "codemirror_mode": {
    "name": "ipython",
    "version": 3
   },
   "file_extension": ".py",
   "mimetype": "text/x-python",
   "name": "python",
   "nbconvert_exporter": "python",
   "pygments_lexer": "ipython3",
   "version": "3.6.4"
  }
 },
 "nbformat": 4,
 "nbformat_minor": 2
}
